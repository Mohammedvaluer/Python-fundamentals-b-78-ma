{
 "cells": [
  {
   "cell_type": "code",
   "execution_count": null,
   "id": "60222089",
   "metadata": {},
   "outputs": [],
   "source": [
    "fcustomwords(placeholder1)(placeholder2).....(placeholdern)"
   ]
  },
  {
   "cell_type": "code",
   "execution_count": 33,
   "id": "a6e7a3e7",
   "metadata": {},
   "outputs": [],
   "source": [
    "firstname ='mohammed'"
   ]
  },
  {
   "cell_type": "code",
   "execution_count": 34,
   "id": "b64e6ffb",
   "metadata": {},
   "outputs": [],
   "source": [
    "lastname ='assadullah'"
   ]
  },
  {
   "cell_type": "code",
   "execution_count": 35,
   "id": "b77103c5",
   "metadata": {},
   "outputs": [
    {
     "name": "stdout",
     "output_type": "stream",
     "text": [
      "mohammed assadullah\n"
     ]
    }
   ],
   "source": [
    "fullname= f\"{firstname} {lastname}\"\n",
    "print(fullname)\n"
   ]
  },
  {
   "cell_type": "code",
   "execution_count": null,
   "id": "551385c8",
   "metadata": {},
   "outputs": [],
   "source": [
    "#PLEASE NOTE THAT CURLY BRACES TO BE USED{}"
   ]
  },
  {
   "cell_type": "code",
   "execution_count": 37,
   "id": "adc86908",
   "metadata": {},
   "outputs": [
    {
     "name": "stdout",
     "output_type": "stream",
     "text": [
      "Mohammed Assadullah\n"
     ]
    }
   ],
   "source": [
    "print (fullname.title())"
   ]
  },
  {
   "cell_type": "code",
   "execution_count": 39,
   "id": "68148a6c",
   "metadata": {},
   "outputs": [
    {
     "ename": "SyntaxError",
     "evalue": "unterminated string literal (detected at line 1) (720527332.py, line 1)",
     "output_type": "error",
     "traceback": [
      "\u001b[1;36m  Cell \u001b[1;32mIn[39], line 1\u001b[1;36m\u001b[0m\n\u001b[1;33m    message=f\"keep the good work {fullname.title()}\u001b[0m\n\u001b[1;37m            ^\u001b[0m\n\u001b[1;31mSyntaxError\u001b[0m\u001b[1;31m:\u001b[0m unterminated string literal (detected at line 1)\n"
     ]
    }
   ],
   "source": [
    "message=f\"keep the good work {fullname.title()}"
   ]
  },
  {
   "cell_type": "code",
   "execution_count": 40,
   "id": "9b0add26",
   "metadata": {},
   "outputs": [],
   "source": [
    "message=f\"keep up the good work{fullname.title()}\""
   ]
  },
  {
   "cell_type": "code",
   "execution_count": 41,
   "id": "abb1152c",
   "metadata": {},
   "outputs": [
    {
     "name": "stdout",
     "output_type": "stream",
     "text": [
      "keep up the good workMohammed Assadullah\n"
     ]
    }
   ],
   "source": [
    "print(message)"
   ]
  },
  {
   "cell_type": "code",
   "execution_count": 42,
   "id": "b84c347b",
   "metadata": {},
   "outputs": [],
   "source": [
    "message=f\"keep up the good work {fullname.title()}\""
   ]
  },
  {
   "cell_type": "code",
   "execution_count": 43,
   "id": "846a0679",
   "metadata": {},
   "outputs": [
    {
     "name": "stdout",
     "output_type": "stream",
     "text": [
      "keep up the good work Mohammed Assadullah\n"
     ]
    }
   ],
   "source": [
    "print(message)"
   ]
  },
  {
   "cell_type": "code",
   "execution_count": 44,
   "id": "ca57c23f",
   "metadata": {},
   "outputs": [
    {
     "name": "stdout",
     "output_type": "stream",
     "text": [
      "favourite_programming_language:python  java   react  swift\n"
     ]
    }
   ],
   "source": [
    "print(\"favourite_programming_language:python  java   react  swift\")"
   ]
  },
  {
   "cell_type": "code",
   "execution_count": 45,
   "id": "dcccd37a",
   "metadata": {},
   "outputs": [
    {
     "name": "stdout",
     "output_type": "stream",
     "text": [
      "favourite_programming_language:\n",
      "python\n",
      "java\n",
      "react\n",
      "swift\n"
     ]
    }
   ],
   "source": [
    "print(\"favourite_programming_language:\\npython\\njava\\nreact\\nswift\")"
   ]
  },
  {
   "cell_type": "code",
   "execution_count": 46,
   "id": "beb3cc41",
   "metadata": {},
   "outputs": [
    {
     "name": "stdout",
     "output_type": "stream",
     "text": [
      "favourite_programming_language:\n",
      "\tpython\n",
      "\tjava\n",
      "\treact\n",
      "\tswift\n"
     ]
    }
   ],
   "source": [
    "print(\"favourite_programming_language:\\n\\tpython\\n\\tjava\\n\\treact\\n\\tswift\")"
   ]
  },
  {
   "cell_type": "code",
   "execution_count": 47,
   "id": "3bcecda0",
   "metadata": {},
   "outputs": [],
   "source": [
    "name='   python'"
   ]
  },
  {
   "cell_type": "code",
   "execution_count": 48,
   "id": "f40ccbdf",
   "metadata": {},
   "outputs": [
    {
     "name": "stdout",
     "output_type": "stream",
     "text": [
      "   python\n"
     ]
    }
   ],
   "source": [
    "print(name)"
   ]
  },
  {
   "cell_type": "code",
   "execution_count": null,
   "id": "b53822a4",
   "metadata": {},
   "outputs": [],
   "source": [
    "#to remove space"
   ]
  },
  {
   "cell_type": "code",
   "execution_count": 49,
   "id": "848af43d",
   "metadata": {},
   "outputs": [
    {
     "data": {
      "text/plain": [
       "'python'"
      ]
     },
     "execution_count": 49,
     "metadata": {},
     "output_type": "execute_result"
    }
   ],
   "source": [
    "name.lstrip()#left strip"
   ]
  },
  {
   "cell_type": "code",
   "execution_count": 50,
   "id": "e7392417",
   "metadata": {},
   "outputs": [],
   "source": [
    "name2='python   '"
   ]
  },
  {
   "cell_type": "code",
   "execution_count": 51,
   "id": "61606828",
   "metadata": {},
   "outputs": [
    {
     "name": "stdout",
     "output_type": "stream",
     "text": [
      "python   \n"
     ]
    }
   ],
   "source": [
    "print(name2)"
   ]
  },
  {
   "cell_type": "code",
   "execution_count": 53,
   "id": "2aa006ef",
   "metadata": {},
   "outputs": [
    {
     "data": {
      "text/plain": [
       "'python'"
      ]
     },
     "execution_count": 53,
     "metadata": {},
     "output_type": "execute_result"
    }
   ],
   "source": [
    "name2.rstrip()#rt strip"
   ]
  },
  {
   "cell_type": "code",
   "execution_count": 54,
   "id": "8c907f82",
   "metadata": {},
   "outputs": [],
   "source": [
    "name3='            python      '"
   ]
  },
  {
   "cell_type": "code",
   "execution_count": 55,
   "id": "2ca0fb80",
   "metadata": {},
   "outputs": [
    {
     "name": "stdout",
     "output_type": "stream",
     "text": [
      "<built-in method strip of str object at 0x0000019444A67320>\n"
     ]
    }
   ],
   "source": [
    "print(name3.strip)"
   ]
  },
  {
   "cell_type": "code",
   "execution_count": 56,
   "id": "5e46aed1",
   "metadata": {},
   "outputs": [
    {
     "data": {
      "text/plain": [
       "'python'"
      ]
     },
     "execution_count": 56,
     "metadata": {},
     "output_type": "execute_result"
    }
   ],
   "source": [
    "name3.strip()"
   ]
  },
  {
   "cell_type": "code",
   "execution_count": null,
   "id": "cdc384a3",
   "metadata": {},
   "outputs": [],
   "source": []
  }
 ],
 "metadata": {
  "kernelspec": {
   "display_name": "Python 3 (ipykernel)",
   "language": "python",
   "name": "python3"
  },
  "language_info": {
   "codemirror_mode": {
    "name": "ipython",
    "version": 3
   },
   "file_extension": ".py",
   "mimetype": "text/x-python",
   "name": "python",
   "nbconvert_exporter": "python",
   "pygments_lexer": "ipython3",
   "version": "3.10.9"
  }
 },
 "nbformat": 4,
 "nbformat_minor": 5
}
