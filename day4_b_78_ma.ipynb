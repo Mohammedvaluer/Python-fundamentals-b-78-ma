{
 "cells": [
  {
   "cell_type": "code",
   "execution_count": null,
   "id": "8ca6aa47",
   "metadata": {},
   "outputs": [],
   "source": [
    "#introduction to list data types\n",
    "#a list is a collection of items declared in a particular order\n",
    "#classification is as mutable data type\n",
    "#how to define/declare the list is given in this chapter\n",
    "#also introduction to indexing is given here"
   ]
  },
  {
   "cell_type": "code",
   "execution_count": 1,
   "id": "cb7c08bd",
   "metadata": {},
   "outputs": [],
   "source": [
    "students=['praveen', 'nivedita', 'sadiya', 'john', 'heena', 'kumar']"
   ]
  },
  {
   "cell_type": "code",
   "execution_count": 2,
   "id": "13fe5a0a",
   "metadata": {},
   "outputs": [
    {
     "name": "stdout",
     "output_type": "stream",
     "text": [
      "['praveen', 'nivedita', 'sadiya', 'john', 'heena', 'kumar']\n"
     ]
    }
   ],
   "source": [
    "print(students)"
   ]
  },
  {
   "cell_type": "code",
   "execution_count": 3,
   "id": "dcb71793",
   "metadata": {},
   "outputs": [
    {
     "data": {
      "text/plain": [
       "list"
      ]
     },
     "execution_count": 3,
     "metadata": {},
     "output_type": "execute_result"
    }
   ],
   "source": [
    "type(students)  #this is validated as the output is thus given as list"
   ]
  },
  {
   "cell_type": "code",
   "execution_count": null,
   "id": "c6ea8136",
   "metadata": {},
   "outputs": [],
   "source": [
    "#requirement is to get the name of nivedita as output\n",
    "#here the names are indexed from 0,1,2...."
   ]
  },
  {
   "cell_type": "code",
   "execution_count": 4,
   "id": "de27a86c",
   "metadata": {},
   "outputs": [
    {
     "name": "stdout",
     "output_type": "stream",
     "text": [
      "nivedita\n"
     ]
    }
   ],
   "source": [
    "print(students[1])"
   ]
  },
  {
   "cell_type": "code",
   "execution_count": 5,
   "id": "4dba7461",
   "metadata": {},
   "outputs": [
    {
     "name": "stdout",
     "output_type": "stream",
     "text": [
      "Nivedita\n"
     ]
    }
   ],
   "source": [
    "print(students[1].title())"
   ]
  },
  {
   "cell_type": "code",
   "execution_count": 6,
   "id": "927b28a3",
   "metadata": {},
   "outputs": [
    {
     "ename": "SyntaxError",
     "evalue": "positional argument follows keyword argument (2571794176.py, line 1)",
     "output_type": "error",
     "traceback": [
      "\u001b[1;36m  Cell \u001b[1;32mIn[6], line 1\u001b[1;36m\u001b[0m\n\u001b[1;33m    print(students=[1].title(), [2].title(), [3].title())\u001b[0m\n\u001b[1;37m                                                        ^\u001b[0m\n\u001b[1;31mSyntaxError\u001b[0m\u001b[1;31m:\u001b[0m positional argument follows keyword argument\n"
     ]
    }
   ],
   "source": [
    "print(students=[1].title(), [2].title(), [3].title())"
   ]
  },
  {
   "cell_type": "code",
   "execution_count": 30,
   "id": "77953337",
   "metadata": {},
   "outputs": [
    {
     "name": "stdout",
     "output_type": "stream",
     "text": [
      "Ayesha Sadiya Heena\n"
     ]
    }
   ],
   "source": [
    "print(students[1].title(),students[2].title(),students[3].title())"
   ]
  },
  {
   "cell_type": "code",
   "execution_count": 8,
   "id": "cf976081",
   "metadata": {},
   "outputs": [],
   "source": [
    "students.append('manoj') #to insert manoj name in the list of students"
   ]
  },
  {
   "cell_type": "code",
   "execution_count": 9,
   "id": "6d922587",
   "metadata": {},
   "outputs": [
    {
     "name": "stdout",
     "output_type": "stream",
     "text": [
      "['praveen', 'nivedita', 'sadiya', 'john', 'heena', 'kumar', 'manoj']\n"
     ]
    }
   ],
   "source": [
    "print(students)"
   ]
  },
  {
   "cell_type": "code",
   "execution_count": 10,
   "id": "8cf05c1a",
   "metadata": {},
   "outputs": [],
   "source": [
    "students.insert(2,'ayesha')"
   ]
  },
  {
   "cell_type": "code",
   "execution_count": 11,
   "id": "61da49b7",
   "metadata": {},
   "outputs": [
    {
     "name": "stdout",
     "output_type": "stream",
     "text": [
      "['praveen', 'nivedita', 'ayesha', 'sadiya', 'john', 'heena', 'kumar', 'manoj']\n"
     ]
    }
   ],
   "source": [
    "print(students)"
   ]
  },
  {
   "cell_type": "code",
   "execution_count": 12,
   "id": "748776c2",
   "metadata": {},
   "outputs": [
    {
     "name": "stdout",
     "output_type": "stream",
     "text": [
      "['praveen', 'nivedita', 'ayesha', 'sadiya', 'john', 'heena', 'kumar', 'manoj']\n"
     ]
    },
    {
     "ename": "TypeError",
     "evalue": "'NoneType' object is not subscriptable",
     "output_type": "error",
     "traceback": [
      "\u001b[1;31m---------------------------------------------------------------------------\u001b[0m",
      "\u001b[1;31mTypeError\u001b[0m                                 Traceback (most recent call last)",
      "Cell \u001b[1;32mIn[12], line 1\u001b[0m\n\u001b[1;32m----> 1\u001b[0m \u001b[38;5;28;43mprint\u001b[39;49m\u001b[43m(\u001b[49m\u001b[43mstudents\u001b[49m\u001b[43m)\u001b[49m\u001b[43m[\u001b[49m\u001b[38;5;241;43m2\u001b[39;49m\u001b[43m]\u001b[49m\u001b[38;5;241m.\u001b[39mtitle()\n",
      "\u001b[1;31mTypeError\u001b[0m: 'NoneType' object is not subscriptable"
     ]
    }
   ],
   "source": [
    "print(students)[2].title()"
   ]
  },
  {
   "cell_type": "code",
   "execution_count": 13,
   "id": "ae04a4cd",
   "metadata": {},
   "outputs": [
    {
     "name": "stdout",
     "output_type": "stream",
     "text": [
      "Ayesha\n"
     ]
    }
   ],
   "source": [
    "print(students[2].title())"
   ]
  },
  {
   "cell_type": "code",
   "execution_count": 14,
   "id": "746bbcd4",
   "metadata": {},
   "outputs": [],
   "source": [
    "students[0]='vishesha'"
   ]
  },
  {
   "cell_type": "code",
   "execution_count": 15,
   "id": "8f0cbd68",
   "metadata": {},
   "outputs": [
    {
     "name": "stdout",
     "output_type": "stream",
     "text": [
      "['vishesha', 'nivedita', 'ayesha', 'sadiya', 'john', 'heena', 'kumar', 'manoj']\n"
     ]
    }
   ],
   "source": [
    "print(students)"
   ]
  },
  {
   "cell_type": "code",
   "execution_count": 16,
   "id": "129278a4",
   "metadata": {},
   "outputs": [],
   "source": [
    "#temperory deleting by using pop.\n",
    "#note:by default pop will be deleting the item from the list, if needed we can specify index as well\n",
    "#pop will be storing the deleted items in the variables that has been assigned to it"
   ]
  },
  {
   "cell_type": "code",
   "execution_count": 17,
   "id": "b599c8d1",
   "metadata": {},
   "outputs": [],
   "source": [
    "x=students.pop()"
   ]
  },
  {
   "cell_type": "code",
   "execution_count": 18,
   "id": "7beb663e",
   "metadata": {},
   "outputs": [
    {
     "name": "stdout",
     "output_type": "stream",
     "text": [
      "['vishesha', 'nivedita', 'ayesha', 'sadiya', 'john', 'heena', 'kumar']\n"
     ]
    }
   ],
   "source": [
    "print(students)"
   ]
  },
  {
   "cell_type": "code",
   "execution_count": 19,
   "id": "1c8d48ac",
   "metadata": {},
   "outputs": [
    {
     "name": "stdout",
     "output_type": "stream",
     "text": [
      "manoj\n"
     ]
    }
   ],
   "source": [
    "print(x)"
   ]
  },
  {
   "cell_type": "code",
   "execution_count": null,
   "id": "12034b99",
   "metadata": {},
   "outputs": [],
   "source": [
    "#to delete john"
   ]
  },
  {
   "cell_type": "code",
   "execution_count": 20,
   "id": "7ea805ce",
   "metadata": {},
   "outputs": [],
   "source": [
    "y=students.pop(4)"
   ]
  },
  {
   "cell_type": "code",
   "execution_count": 21,
   "id": "6d8bd2f8",
   "metadata": {},
   "outputs": [
    {
     "name": "stdout",
     "output_type": "stream",
     "text": [
      "['vishesha', 'nivedita', 'ayesha', 'sadiya', 'heena', 'kumar']\n"
     ]
    }
   ],
   "source": [
    "print(students)"
   ]
  },
  {
   "cell_type": "code",
   "execution_count": 22,
   "id": "4818798e",
   "metadata": {},
   "outputs": [
    {
     "name": "stdout",
     "output_type": "stream",
     "text": [
      "john\n"
     ]
    }
   ],
   "source": [
    "print(y)"
   ]
  },
  {
   "cell_type": "code",
   "execution_count": 23,
   "id": "994e4348",
   "metadata": {},
   "outputs": [
    {
     "name": "stdout",
     "output_type": "stream",
     "text": [
      "['vishesha', 'nivedita', 'ayesha', 'sadiya', 'heena', 'kumar']\n"
     ]
    }
   ],
   "source": [
    "print(students)"
   ]
  },
  {
   "cell_type": "code",
   "execution_count": 24,
   "id": "f024116b",
   "metadata": {},
   "outputs": [
    {
     "ename": "TypeError",
     "evalue": "list indices must be integers or slices, not tuple",
     "output_type": "error",
     "traceback": [
      "\u001b[1;31m---------------------------------------------------------------------------\u001b[0m",
      "\u001b[1;31mTypeError\u001b[0m                                 Traceback (most recent call last)",
      "Cell \u001b[1;32mIn[24], line 1\u001b[0m\n\u001b[1;32m----> 1\u001b[0m \u001b[43mstudents\u001b[49m\u001b[43m[\u001b[49m\u001b[38;5;124;43m'\u001b[39;49m\u001b[38;5;124;43mvishesha\u001b[39;49m\u001b[38;5;124;43m'\u001b[39;49m\u001b[43m,\u001b[49m\u001b[43m \u001b[49m\u001b[38;5;124;43m'\u001b[39;49m\u001b[38;5;124;43mnivedita\u001b[39;49m\u001b[38;5;124;43m'\u001b[39;49m\u001b[43m,\u001b[49m\u001b[43m \u001b[49m\u001b[38;5;124;43m'\u001b[39;49m\u001b[38;5;124;43mayesha\u001b[39;49m\u001b[38;5;124;43m'\u001b[39;49m\u001b[43m,\u001b[49m\u001b[43m \u001b[49m\u001b[38;5;124;43m'\u001b[39;49m\u001b[38;5;124;43msadiya\u001b[39;49m\u001b[38;5;124;43m'\u001b[39;49m\u001b[43m,\u001b[49m\u001b[43m \u001b[49m\u001b[38;5;124;43m'\u001b[39;49m\u001b[38;5;124;43mheena\u001b[39;49m\u001b[38;5;124;43m'\u001b[39;49m\u001b[43m,\u001b[49m\u001b[43m \u001b[49m\u001b[38;5;124;43m'\u001b[39;49m\u001b[38;5;124;43mkumar\u001b[39;49m\u001b[38;5;124;43m'\u001b[39;49m\u001b[43m,\u001b[49m\u001b[43m \u001b[49m\u001b[38;5;124;43m'\u001b[39;49m\u001b[38;5;124;43mpranay\u001b[39;49m\u001b[38;5;124;43m'\u001b[39;49m\u001b[43m]\u001b[49m\n",
      "\u001b[1;31mTypeError\u001b[0m: list indices must be integers or slices, not tuple"
     ]
    }
   ],
   "source": [
    "students['vishesha', 'nivedita', 'ayesha', 'sadiya', 'heena', 'kumar', 'pranay']"
   ]
  },
  {
   "cell_type": "code",
   "execution_count": 25,
   "id": "24b35fa5",
   "metadata": {},
   "outputs": [],
   "source": [
    "students=['vishesha', 'nivedita', 'ayesha', 'sadiya', 'heena', 'kumar','pranay']"
   ]
  },
  {
   "cell_type": "code",
   "execution_count": 26,
   "id": "bba32a19",
   "metadata": {},
   "outputs": [
    {
     "name": "stdout",
     "output_type": "stream",
     "text": [
      "['vishesha', 'nivedita', 'ayesha', 'sadiya', 'heena', 'kumar', 'pranay']\n"
     ]
    }
   ],
   "source": [
    "print(students)"
   ]
  },
  {
   "cell_type": "code",
   "execution_count": 27,
   "id": "f4be91f4",
   "metadata": {},
   "outputs": [],
   "source": [
    "del students[0]"
   ]
  },
  {
   "cell_type": "code",
   "execution_count": 28,
   "id": "7d790f95",
   "metadata": {},
   "outputs": [
    {
     "name": "stdout",
     "output_type": "stream",
     "text": [
      "['nivedita', 'ayesha', 'sadiya', 'heena', 'kumar', 'pranay']\n"
     ]
    }
   ],
   "source": [
    "print(students)"
   ]
  },
  {
   "cell_type": "code",
   "execution_count": null,
   "id": "e137072f",
   "metadata": {},
   "outputs": [],
   "source": [
    "#now visesha is deleted"
   ]
  }
 ],
 "metadata": {
  "kernelspec": {
   "display_name": "Python 3 (ipykernel)",
   "language": "python",
   "name": "python3"
  },
  "language_info": {
   "codemirror_mode": {
    "name": "ipython",
    "version": 3
   },
   "file_extension": ".py",
   "mimetype": "text/x-python",
   "name": "python",
   "nbconvert_exporter": "python",
   "pygments_lexer": "ipython3",
   "version": "3.10.9"
  }
 },
 "nbformat": 4,
 "nbformat_minor": 5
}
