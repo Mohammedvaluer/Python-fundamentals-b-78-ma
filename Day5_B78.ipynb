{
 "cells": [
  {
   "cell_type": "code",
   "execution_count": null,
   "id": "9c5e7400",
   "metadata": {},
   "outputs": [],
   "source": [
    "Organising the list datatype"
   ]
  },
  {
   "cell_type": "code",
   "execution_count": 3,
   "id": "52ded710",
   "metadata": {},
   "outputs": [],
   "source": [
    "cars=['suzuki', 'bmw', 'maruti', 'audi', 'benz', 'kia']"
   ]
  },
  {
   "cell_type": "code",
   "execution_count": 4,
   "id": "57d7cea7",
   "metadata": {},
   "outputs": [
    {
     "name": "stdout",
     "output_type": "stream",
     "text": [
      "['suzuki', 'bmw', 'maruti', 'audi', 'benz', 'kia']\n"
     ]
    }
   ],
   "source": [
    "print(cars)"
   ]
  },
  {
   "cell_type": "code",
   "execution_count": 5,
   "id": "b064ec21",
   "metadata": {},
   "outputs": [
    {
     "data": {
      "text/plain": [
       "list"
      ]
     },
     "execution_count": 5,
     "metadata": {},
     "output_type": "execute_result"
    }
   ],
   "source": [
    "type(cars)"
   ]
  },
  {
   "cell_type": "code",
   "execution_count": 6,
   "id": "5cba7e7e",
   "metadata": {},
   "outputs": [],
   "source": [
    "#to organise the list in the alphabatical order----> a-z\n",
    "#two approaches: sorted  --we will be having the original order of the list declared\n",
    " #   in another approach permanent approach -- changes are applied permananetly"
   ]
  },
  {
   "cell_type": "code",
   "execution_count": 7,
   "id": "bcbd1eaf",
   "metadata": {},
   "outputs": [],
   "source": [
    "cars.sort()"
   ]
  },
  {
   "cell_type": "code",
   "execution_count": 8,
   "id": "1b83def7",
   "metadata": {},
   "outputs": [
    {
     "name": "stdout",
     "output_type": "stream",
     "text": [
      "['audi', 'benz', 'bmw', 'kia', 'maruti', 'suzuki']\n"
     ]
    }
   ],
   "source": [
    "print(cars)"
   ]
  },
  {
   "cell_type": "code",
   "execution_count": null,
   "id": "64f679cd",
   "metadata": {},
   "outputs": [],
   "source": []
  },
  {
   "cell_type": "code",
   "execution_count": null,
   "id": "3f39acb7",
   "metadata": {},
   "outputs": [],
   "source": [
    "#introduction to slicing"
   ]
  },
  {
   "cell_type": "code",
   "execution_count": 10,
   "id": "d02f00c0",
   "metadata": {},
   "outputs": [],
   "source": [
    "students = ['kumar', 'naveed', 'david', 'arun', 'visesha', 'nasreen', 'saba', 'teja']"
   ]
  },
  {
   "cell_type": "code",
   "execution_count": 11,
   "id": "d9861c54",
   "metadata": {},
   "outputs": [
    {
     "name": "stdout",
     "output_type": "stream",
     "text": [
      "['kumar', 'naveed', 'david', 'arun', 'visesha', 'nasreen', 'saba', 'teja']\n"
     ]
    }
   ],
   "source": [
    "print(students)"
   ]
  },
  {
   "cell_type": "code",
   "execution_count": null,
   "id": "55ddeddb",
   "metadata": {},
   "outputs": [],
   "source": [
    "[startvaalue:stopvalue:count]"
   ]
  },
  {
   "cell_type": "code",
   "execution_count": null,
   "id": "78c24224",
   "metadata": {},
   "outputs": [],
   "source": [
    "#note: always last value is exclusive; to include the last value we have to increment the index by +1\n",
    "#to include kumar and naveed in the slice"
   ]
  },
  {
   "cell_type": "code",
   "execution_count": 12,
   "id": "a56608fe",
   "metadata": {},
   "outputs": [
    {
     "name": "stdout",
     "output_type": "stream",
     "text": [
      "['kumar']\n"
     ]
    }
   ],
   "source": [
    "print(students[0:1])"
   ]
  },
  {
   "cell_type": "code",
   "execution_count": 13,
   "id": "696e60ae",
   "metadata": {},
   "outputs": [
    {
     "name": "stdout",
     "output_type": "stream",
     "text": [
      "['kumar', 'naveed', 'david', 'arun', 'visesha', 'nasreen', 'saba', 'teja']\n"
     ]
    }
   ],
   "source": [
    "print(students)"
   ]
  },
  {
   "cell_type": "code",
   "execution_count": 14,
   "id": "b2925e03",
   "metadata": {},
   "outputs": [
    {
     "name": "stdout",
     "output_type": "stream",
     "text": [
      "['kumar', 'naveed']\n"
     ]
    }
   ],
   "source": [
    "print(students[0:2])"
   ]
  },
  {
   "cell_type": "code",
   "execution_count": 15,
   "id": "0dcdfd4f",
   "metadata": {},
   "outputs": [
    {
     "name": "stdout",
     "output_type": "stream",
     "text": [
      "['kumar', 'naveed', 'david']\n"
     ]
    }
   ],
   "source": [
    "print(students[0:3])"
   ]
  },
  {
   "cell_type": "code",
   "execution_count": 16,
   "id": "0a2fcd3a",
   "metadata": {},
   "outputs": [
    {
     "name": "stdout",
     "output_type": "stream",
     "text": [
      "['david']\n"
     ]
    }
   ],
   "source": [
    "print(students[2:3])"
   ]
  },
  {
   "cell_type": "code",
   "execution_count": 17,
   "id": "c02d82ca",
   "metadata": {},
   "outputs": [
    {
     "name": "stdout",
     "output_type": "stream",
     "text": [
      "['david', 'arun']\n"
     ]
    }
   ],
   "source": [
    "print(students[2:4])"
   ]
  },
  {
   "cell_type": "code",
   "execution_count": 18,
   "id": "98b4f7d0",
   "metadata": {},
   "outputs": [
    {
     "name": "stdout",
     "output_type": "stream",
     "text": [
      "['david', 'arun', 'visesha']\n"
     ]
    }
   ],
   "source": [
    "print(students[2:5])"
   ]
  },
  {
   "cell_type": "code",
   "execution_count": 21,
   "id": "bc2dabdb",
   "metadata": {},
   "outputs": [
    {
     "name": "stdout",
     "output_type": "stream",
     "text": [
      "['kumar', 'david', 'visesha', 'saba']\n"
     ]
    }
   ],
   "source": [
    "print(students[0:7:2])"
   ]
  },
  {
   "cell_type": "code",
   "execution_count": null,
   "id": "18aa0ff9",
   "metadata": {},
   "outputs": [],
   "source": []
  }
 ],
 "metadata": {
  "kernelspec": {
   "display_name": "Python 3 (ipykernel)",
   "language": "python",
   "name": "python3"
  },
  "language_info": {
   "codemirror_mode": {
    "name": "ipython",
    "version": 3
   },
   "file_extension": ".py",
   "mimetype": "text/x-python",
   "name": "python",
   "nbconvert_exporter": "python",
   "pygments_lexer": "ipython3",
   "version": "3.10.9"
  }
 },
 "nbformat": 4,
 "nbformat_minor": 5
}
