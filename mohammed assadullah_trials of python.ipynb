{
 "cells": [
  {
   "cell_type": "code",
   "execution_count": null,
   "id": "0a856e3f",
   "metadata": {},
   "outputs": [],
   "source": [
    "#GO to start --anaconda navigator and launch jupiter notebook OPEN FILE PYTHON FROM THERE \n",
    "#THEN YOU WILL GET A RECTANGLE. TO ADD RECTANGLES JUST CLICK + SIGN IT WILL GET ADDED \n",
    "#ELSE AFTER EXECUTION PRESS ENTER THE SQUARES WILL BE ADDED.\n",
    "#whatever written with this # is a theory and will not be executed and it will change to green colour"
   ]
  },
  {
   "cell_type": "code",
   "execution_count": 1,
   "id": "a6f36193",
   "metadata": {},
   "outputs": [
    {
     "name": "stdout",
     "output_type": "stream",
     "text": [
      "hello all welcome to the programming world\n"
     ]
    }
   ],
   "source": [
    "print(\"hello all welcome to the programming world\")"
   ]
  },
  {
   "cell_type": "markdown",
   "id": "9f510c86",
   "metadata": {},
   "source": [
    "x=3"
   ]
  },
  {
   "cell_type": "markdown",
   "id": "77e74fdc",
   "metadata": {},
   "source": [
    "y=2"
   ]
  },
  {
   "cell_type": "code",
   "execution_count": null,
   "id": "3c8d24a0",
   "metadata": {},
   "outputs": [],
   "source": [
    "z=x+y"
   ]
  },
  {
   "cell_type": "code",
   "execution_count": 2,
   "id": "bea1ec8f",
   "metadata": {},
   "outputs": [
    {
     "ename": "NameError",
     "evalue": "name 'z' is not defined",
     "output_type": "error",
     "traceback": [
      "\u001b[1;31m---------------------------------------------------------------------------\u001b[0m",
      "\u001b[1;31mNameError\u001b[0m                                 Traceback (most recent call last)",
      "Cell \u001b[1;32mIn[2], line 1\u001b[0m\n\u001b[1;32m----> 1\u001b[0m \u001b[38;5;28mprint\u001b[39m(\u001b[43mz\u001b[49m)\n",
      "\u001b[1;31mNameError\u001b[0m: name 'z' is not defined"
     ]
    }
   ],
   "source": [
    "print(z)"
   ]
  },
  {
   "cell_type": "code",
   "execution_count": 3,
   "id": "c335a3df",
   "metadata": {},
   "outputs": [],
   "source": [
    "x=3\n",
    "y=2"
   ]
  },
  {
   "cell_type": "code",
   "execution_count": 4,
   "id": "fc6963cd",
   "metadata": {},
   "outputs": [],
   "source": [
    "z=x+y"
   ]
  },
  {
   "cell_type": "code",
   "execution_count": 5,
   "id": "dbfbfe74",
   "metadata": {},
   "outputs": [
    {
     "name": "stdout",
     "output_type": "stream",
     "text": [
      "5\n"
     ]
    }
   ],
   "source": [
    "print(z)"
   ]
  },
  {
   "cell_type": "code",
   "execution_count": 6,
   "id": "cdbe6ebc",
   "metadata": {},
   "outputs": [
    {
     "ename": "SyntaxError",
     "evalue": "invalid syntax (3635875640.py, line 1)",
     "output_type": "error",
     "traceback": [
      "\u001b[1;36m  Cell \u001b[1;32mIn[6], line 1\u001b[1;36m\u001b[0m\n\u001b[1;33m    first name'mohammed assadullah'\u001b[0m\n\u001b[1;37m          ^\u001b[0m\n\u001b[1;31mSyntaxError\u001b[0m\u001b[1;31m:\u001b[0m invalid syntax\n"
     ]
    }
   ],
   "source": [
    "first name'mohammed assadullah'"
   ]
  },
  {
   "cell_type": "code",
   "execution_count": 7,
   "id": "261f3481",
   "metadata": {},
   "outputs": [
    {
     "ename": "SyntaxError",
     "evalue": "invalid syntax (2534318263.py, line 1)",
     "output_type": "error",
     "traceback": [
      "\u001b[1;36m  Cell \u001b[1;32mIn[7], line 1\u001b[1;36m\u001b[0m\n\u001b[1;33m    firstname 'mohammed assadullah'\u001b[0m\n\u001b[1;37m              ^\u001b[0m\n\u001b[1;31mSyntaxError\u001b[0m\u001b[1;31m:\u001b[0m invalid syntax\n"
     ]
    }
   ],
   "source": [
    "firstname 'mohammed assadullah'"
   ]
  },
  {
   "cell_type": "code",
   "execution_count": 9,
   "id": "e88f9598",
   "metadata": {},
   "outputs": [],
   "source": [
    "firstname= 'mohammed assadullah'"
   ]
  },
  {
   "cell_type": "code",
   "execution_count": 10,
   "id": "964f654e",
   "metadata": {},
   "outputs": [
    {
     "name": "stdout",
     "output_type": "stream",
     "text": [
      "mohammed assadullah\n"
     ]
    }
   ],
   "source": [
    "print(firstname)"
   ]
  },
  {
   "cell_type": "code",
   "execution_count": 11,
   "id": "de55e34f",
   "metadata": {},
   "outputs": [
    {
     "ename": "SyntaxError",
     "evalue": "invalid decimal literal (3003257913.py, line 1)",
     "output_type": "error",
     "traceback": [
      "\u001b[1;36m  Cell \u001b[1;32mIn[11], line 1\u001b[1;36m\u001b[0m\n\u001b[1;33m    1firstname= 'mohammed assadullah'\u001b[0m\n\u001b[1;37m    ^\u001b[0m\n\u001b[1;31mSyntaxError\u001b[0m\u001b[1;31m:\u001b[0m invalid decimal literal\n"
     ]
    }
   ],
   "source": [
    "1firstname= 'mohammed assadullah'"
   ]
  },
  {
   "cell_type": "code",
   "execution_count": 12,
   "id": "60d0ff2b",
   "metadata": {},
   "outputs": [
    {
     "ename": "SyntaxError",
     "evalue": "invalid syntax. Maybe you meant '==' or ':=' instead of '='? (1292613431.py, line 1)",
     "output_type": "error",
     "traceback": [
      "\u001b[1;36m  Cell \u001b[1;32mIn[12], line 1\u001b[1;36m\u001b[0m\n\u001b[1;33m    @firstname= 'mohammed assadullah'\u001b[0m\n\u001b[1;37m     ^\u001b[0m\n\u001b[1;31mSyntaxError\u001b[0m\u001b[1;31m:\u001b[0m invalid syntax. Maybe you meant '==' or ':=' instead of '='?\n"
     ]
    }
   ],
   "source": [
    "@firstname= 'mohammed assadullah'"
   ]
  },
  {
   "cell_type": "code",
   "execution_count": 13,
   "id": "764a8478",
   "metadata": {},
   "outputs": [
    {
     "ename": "SyntaxError",
     "evalue": "invalid syntax. Perhaps you forgot a comma? (2590881697.py, line 1)",
     "output_type": "error",
     "traceback": [
      "\u001b[1;36m  Cell \u001b[1;32mIn[13], line 1\u001b[1;36m\u001b[0m\n\u001b[1;33m    firstname= (mohammed assadullah)\u001b[0m\n\u001b[1;37m                ^\u001b[0m\n\u001b[1;31mSyntaxError\u001b[0m\u001b[1;31m:\u001b[0m invalid syntax. Perhaps you forgot a comma?\n"
     ]
    }
   ],
   "source": [
    "firstname= (mohammed assadullah)"
   ]
  },
  {
   "cell_type": "code",
   "execution_count": 14,
   "id": "09e08400",
   "metadata": {},
   "outputs": [],
   "source": [
    "firstname='mohammed assadullah'"
   ]
  },
  {
   "cell_type": "code",
   "execution_count": 15,
   "id": "9dd65022",
   "metadata": {},
   "outputs": [
    {
     "name": "stdout",
     "output_type": "stream",
     "text": [
      "Mohammed Assadullah\n"
     ]
    }
   ],
   "source": [
    "print(firstname.title())"
   ]
  },
  {
   "cell_type": "code",
   "execution_count": 16,
   "id": "c1948d2c",
   "metadata": {},
   "outputs": [
    {
     "name": "stdout",
     "output_type": "stream",
     "text": [
      "MOHAMMED ASSADULLAH\n"
     ]
    }
   ],
   "source": [
    "print(firstname.upper())"
   ]
  },
  {
   "cell_type": "code",
   "execution_count": 17,
   "id": "211a5a80",
   "metadata": {},
   "outputs": [
    {
     "name": "stdout",
     "output_type": "stream",
     "text": [
      "mohammed assadullah\n"
     ]
    }
   ],
   "source": [
    "print(firstname.lower())"
   ]
  },
  {
   "cell_type": "code",
   "execution_count": null,
   "id": "db682b77",
   "metadata": {},
   "outputs": [],
   "source": [
    "firstname='mohammed'"
   ]
  },
  {
   "cell_type": "code",
   "execution_count": 19,
   "id": "c32e4399",
   "metadata": {},
   "outputs": [],
   "source": [
    "lastname='assadullah'"
   ]
  },
  {
   "cell_type": "code",
   "execution_count": null,
   "id": "5994b975",
   "metadata": {},
   "outputs": [],
   "source": [
    "# this number 1 got inserted by mistake and couldn't be deleted so the result is 2 times last name"
   ]
  },
  {
   "cell_type": "code",
   "execution_count": 20,
   "id": "b7144fd6",
   "metadata": {},
   "outputs": [],
   "source": [
    "fullname=f\"{firstname}  {lastname}\""
   ]
  },
  {
   "cell_type": "code",
   "execution_count": 21,
   "id": "c8392af6",
   "metadata": {},
   "outputs": [
    {
     "name": "stdout",
     "output_type": "stream",
     "text": [
      "mohammed assadullah  assadullah\n"
     ]
    }
   ],
   "source": [
    "print(fullname)"
   ]
  },
  {
   "cell_type": "code",
   "execution_count": 22,
   "id": "791bfc33",
   "metadata": {},
   "outputs": [],
   "source": [
    "firstname= 'mohammed'"
   ]
  },
  {
   "cell_type": "code",
   "execution_count": 23,
   "id": "d6d9d10f",
   "metadata": {},
   "outputs": [],
   "source": [
    "lastname=  'assadullah'"
   ]
  },
  {
   "cell_type": "code",
   "execution_count": 24,
   "id": "96c5772b",
   "metadata": {},
   "outputs": [],
   "source": [
    "fullname=f\"{firstname}  {lastname}\""
   ]
  },
  {
   "cell_type": "code",
   "execution_count": 25,
   "id": "56d544b5",
   "metadata": {},
   "outputs": [
    {
     "name": "stdout",
     "output_type": "stream",
     "text": [
      "mohammed  assadullah\n"
     ]
    }
   ],
   "source": [
    "print(fullname)"
   ]
  },
  {
   "cell_type": "code",
   "execution_count": 26,
   "id": "3efa0480",
   "metadata": {},
   "outputs": [],
   "source": [
    "message=f\"keep the goodwork {fullname.title()}\""
   ]
  },
  {
   "cell_type": "code",
   "execution_count": 27,
   "id": "92dab4d2",
   "metadata": {},
   "outputs": [
    {
     "name": "stdout",
     "output_type": "stream",
     "text": [
      "keep the goodwork Mohammed  Assadullah\n"
     ]
    }
   ],
   "source": [
    "print(message)"
   ]
  },
  {
   "cell_type": "code",
   "execution_count": 28,
   "id": "cf0a8065",
   "metadata": {},
   "outputs": [],
   "source": [
    "message=f\"keep the goodwork {fullname.upper()}\""
   ]
  },
  {
   "cell_type": "code",
   "execution_count": 29,
   "id": "291b66e5",
   "metadata": {},
   "outputs": [
    {
     "name": "stdout",
     "output_type": "stream",
     "text": [
      "keep the goodwork MOHAMMED  ASSADULLAH\n"
     ]
    }
   ],
   "source": [
    "print(message)"
   ]
  },
  {
   "cell_type": "code",
   "execution_count": 30,
   "id": "99e3924c",
   "metadata": {},
   "outputs": [
    {
     "name": "stdout",
     "output_type": "stream",
     "text": [
      "favourite_programming_language:python    react   java   swift\n"
     ]
    }
   ],
   "source": [
    "print(\"favourite_programming_language:python    react   java   swift\")"
   ]
  },
  {
   "cell_type": "code",
   "execution_count": 31,
   "id": "54f59a9f",
   "metadata": {},
   "outputs": [
    {
     "name": "stdout",
     "output_type": "stream",
     "text": [
      "favourite_programming_language:\n",
      "python   \n",
      "react   \n",
      "java   \n",
      "swift\n"
     ]
    }
   ],
   "source": [
    "print(\"favourite_programming_language:\\npython   \\nreact   \\njava   \\nswift\")"
   ]
  },
  {
   "cell_type": "code",
   "execution_count": 32,
   "id": "7f29c50a",
   "metadata": {},
   "outputs": [
    {
     "name": "stdout",
     "output_type": "stream",
     "text": [
      "favourite_programming_language:\n",
      "\tpython  \n",
      "\treact  \n",
      "\tjava   \n",
      "\tswift\n"
     ]
    }
   ],
   "source": [
    "print(\"favourite_programming_language:\\n\\tpython  \\n\\treact  \\n\\tjava   \\n\\tswift\")"
   ]
  },
  {
   "cell_type": "code",
   "execution_count": 33,
   "id": "8aa1ef95",
   "metadata": {},
   "outputs": [],
   "source": [
    "name='     python'     "
   ]
  },
  {
   "cell_type": "code",
   "execution_count": 34,
   "id": "fdab28d9",
   "metadata": {},
   "outputs": [
    {
     "name": "stdout",
     "output_type": "stream",
     "text": [
      "     python\n"
     ]
    }
   ],
   "source": [
    "print(name)"
   ]
  },
  {
   "cell_type": "code",
   "execution_count": 35,
   "id": "5fecdc80",
   "metadata": {},
   "outputs": [
    {
     "data": {
      "text/plain": [
       "'python'"
      ]
     },
     "execution_count": 35,
     "metadata": {},
     "output_type": "execute_result"
    }
   ],
   "source": [
    "name.lstrip()"
   ]
  },
  {
   "cell_type": "code",
   "execution_count": 38,
   "id": "cfd1f079",
   "metadata": {},
   "outputs": [],
   "source": [
    "name='     python     '"
   ]
  },
  {
   "cell_type": "code",
   "execution_count": 39,
   "id": "3780a04c",
   "metadata": {},
   "outputs": [
    {
     "name": "stdout",
     "output_type": "stream",
     "text": [
      "python     \n"
     ]
    }
   ],
   "source": [
    "print(name) # by default it has taken from row 33 and hence this answer. so change to name2"
   ]
  },
  {
   "cell_type": "code",
   "execution_count": 45,
   "id": "5d99d76d",
   "metadata": {},
   "outputs": [],
   "source": [
    "name2='python   '"
   ]
  },
  {
   "cell_type": "code",
   "execution_count": 46,
   "id": "06de809b",
   "metadata": {},
   "outputs": [
    {
     "name": "stdout",
     "output_type": "stream",
     "text": [
      "python   \n"
     ]
    }
   ],
   "source": [
    "print(name2)"
   ]
  },
  {
   "cell_type": "markdown",
   "id": "dd57c51c",
   "metadata": {},
   "source": []
  },
  {
   "cell_type": "code",
   "execution_count": 47,
   "id": "72dc939a",
   "metadata": {},
   "outputs": [
    {
     "data": {
      "text/plain": [
       "'python'"
      ]
     },
     "execution_count": 47,
     "metadata": {},
     "output_type": "execute_result"
    }
   ],
   "source": [
    "name2.rstrip()"
   ]
  },
  {
   "cell_type": "code",
   "execution_count": 50,
   "id": "32dd262b",
   "metadata": {},
   "outputs": [],
   "source": [
    "name3='      python      '# instead of name 3 I had typed name 2 which was corrected and thus ans"
   ]
  },
  {
   "cell_type": "code",
   "execution_count": 51,
   "id": "51ff9137",
   "metadata": {},
   "outputs": [
    {
     "data": {
      "text/plain": [
       "'python'"
      ]
     },
     "execution_count": 51,
     "metadata": {},
     "output_type": "execute_result"
    }
   ],
   "source": [
    "name3.strip()"
   ]
  },
  {
   "cell_type": "code",
   "execution_count": 52,
   "id": "346c710c",
   "metadata": {},
   "outputs": [],
   "source": [
    "students=['praveen',   'nivedita',   'sadiya',   'john',   'heena',   'kumar']"
   ]
  },
  {
   "cell_type": "code",
   "execution_count": 53,
   "id": "cdbd6b5b",
   "metadata": {},
   "outputs": [
    {
     "name": "stdout",
     "output_type": "stream",
     "text": [
      "['praveen', 'nivedita', 'sadiya', 'john', 'heena', 'kumar']\n"
     ]
    }
   ],
   "source": [
    "print(students)"
   ]
  },
  {
   "cell_type": "code",
   "execution_count": 54,
   "id": "e86701be",
   "metadata": {},
   "outputs": [
    {
     "name": "stdout",
     "output_type": "stream",
     "text": [
      "\n",
      "praveen,\n",
      "nivedita\n",
      "sadiya\n",
      "john\n",
      "heena\n",
      "kumar\n"
     ]
    }
   ],
   "source": [
    "print(\"\\npraveen,\\nnivedita\\nsadiya\\njohn\\nheena\\nkumar\")"
   ]
  },
  {
   "cell_type": "code",
   "execution_count": 55,
   "id": "669a5663",
   "metadata": {},
   "outputs": [],
   "source": [
    "students.insert(2,'ayesha')"
   ]
  },
  {
   "cell_type": "code",
   "execution_count": 56,
   "id": "13ec3ab7",
   "metadata": {},
   "outputs": [
    {
     "name": "stdout",
     "output_type": "stream",
     "text": [
      "['praveen', 'nivedita', 'ayesha', 'sadiya', 'john', 'heena', 'kumar']\n"
     ]
    }
   ],
   "source": [
    "print(students)"
   ]
  },
  {
   "cell_type": "code",
   "execution_count": 57,
   "id": "cf93dd9c",
   "metadata": {},
   "outputs": [
    {
     "name": "stdout",
     "output_type": "stream",
     "text": [
      "Ayesha\n"
     ]
    }
   ],
   "source": [
    "print(students[2].title())"
   ]
  },
  {
   "cell_type": "code",
   "execution_count": 58,
   "id": "30f4357a",
   "metadata": {},
   "outputs": [],
   "source": [
    "students[0]= 'mohammed'"
   ]
  },
  {
   "cell_type": "code",
   "execution_count": 59,
   "id": "d672eda6",
   "metadata": {},
   "outputs": [
    {
     "name": "stdout",
     "output_type": "stream",
     "text": [
      "['mohammed', 'nivedita', 'ayesha', 'sadiya', 'john', 'heena', 'kumar']\n"
     ]
    }
   ],
   "source": [
    "print(students)"
   ]
  },
  {
   "cell_type": "code",
   "execution_count": 1,
   "id": "ec9e4598",
   "metadata": {},
   "outputs": [
    {
     "ename": "NameError",
     "evalue": "name 'students' is not defined",
     "output_type": "error",
     "traceback": [
      "\u001b[1;31m---------------------------------------------------------------------------\u001b[0m",
      "\u001b[1;31mNameError\u001b[0m                                 Traceback (most recent call last)",
      "Cell \u001b[1;32mIn[1], line 1\u001b[0m\n\u001b[1;32m----> 1\u001b[0m x\u001b[38;5;241m=\u001b[39m\u001b[43mstudents\u001b[49m\u001b[38;5;241m.\u001b[39mpop()\n",
      "\u001b[1;31mNameError\u001b[0m: name 'students' is not defined"
     ]
    }
   ],
   "source": [
    "x=students.pop()"
   ]
  },
  {
   "cell_type": "code",
   "execution_count": 2,
   "id": "a7376384",
   "metadata": {},
   "outputs": [],
   "source": [
    "students=['mohammed', 'nivedita', 'ayesha', 'sadiya', 'john', 'heena', 'kumar']\n"
   ]
  },
  {
   "cell_type": "code",
   "execution_count": 3,
   "id": "528bcb75",
   "metadata": {},
   "outputs": [],
   "source": [
    "x=students.pop()# last name kumar gets deleted if using .pop"
   ]
  },
  {
   "cell_type": "code",
   "execution_count": 4,
   "id": "a767dce6",
   "metadata": {},
   "outputs": [
    {
     "name": "stdout",
     "output_type": "stream",
     "text": [
      "['mohammed', 'nivedita', 'ayesha', 'sadiya', 'john', 'heena']\n"
     ]
    }
   ],
   "source": [
    "print(students)"
   ]
  },
  {
   "cell_type": "code",
   "execution_count": 5,
   "id": "4fc1aa47",
   "metadata": {},
   "outputs": [],
   "source": [
    "y=students.pop(4)"
   ]
  },
  {
   "cell_type": "code",
   "execution_count": 6,
   "id": "b669ff95",
   "metadata": {},
   "outputs": [
    {
     "name": "stdout",
     "output_type": "stream",
     "text": [
      "john\n"
     ]
    }
   ],
   "source": [
    "print(y)"
   ]
  },
  {
   "cell_type": "code",
   "execution_count": 7,
   "id": "6808bc7c",
   "metadata": {},
   "outputs": [
    {
     "ename": "SyntaxError",
     "evalue": "cannot delete function call (1972210155.py, line 1)",
     "output_type": "error",
     "traceback": [
      "\u001b[1;36m  Cell \u001b[1;32mIn[7], line 1\u001b[1;36m\u001b[0m\n\u001b[1;33m    del students(4)\u001b[0m\n\u001b[1;37m        ^\u001b[0m\n\u001b[1;31mSyntaxError\u001b[0m\u001b[1;31m:\u001b[0m cannot delete function call\n"
     ]
    }
   ],
   "source": [
    "del students(4)"
   ]
  },
  {
   "cell_type": "code",
   "execution_count": 8,
   "id": "fbe2fded",
   "metadata": {},
   "outputs": [
    {
     "ename": "SyntaxError",
     "evalue": "incomplete input (1333504626.py, line 1)",
     "output_type": "error",
     "traceback": [
      "\u001b[1;36m  Cell \u001b[1;32mIn[8], line 1\u001b[1;36m\u001b[0m\n\u001b[1;33m    students=[['praveen', 'nivedita', 'ayesha', 'sadiya', 'john', 'heena', 'kumar']\u001b[0m\n\u001b[1;37m                                                                                   ^\u001b[0m\n\u001b[1;31mSyntaxError\u001b[0m\u001b[1;31m:\u001b[0m incomplete input\n"
     ]
    }
   ],
   "source": [
    "students=[['praveen', 'nivedita', 'ayesha', 'sadiya', 'john', 'heena', 'kumar']"
   ]
  },
  {
   "cell_type": "code",
   "execution_count": 9,
   "id": "906497e5",
   "metadata": {},
   "outputs": [],
   "source": [
    "students=['praveen', 'nivedita', 'ayesha', 'sadiya', 'john', 'heena', 'kumar']"
   ]
  },
  {
   "cell_type": "code",
   "execution_count": 12,
   "id": "9d90babe",
   "metadata": {},
   "outputs": [],
   "source": [
    "del students[4]"
   ]
  },
  {
   "cell_type": "code",
   "execution_count": 13,
   "id": "dfecd4d2",
   "metadata": {},
   "outputs": [
    {
     "name": "stdout",
     "output_type": "stream",
     "text": [
      "['praveen', 'nivedita', 'ayesha', 'sadiya', 'heena', 'kumar']\n"
     ]
    }
   ],
   "source": [
    "print (students)"
   ]
  },
  {
   "cell_type": "code",
   "execution_count": null,
   "id": "9f96d524",
   "metadata": {},
   "outputs": [],
   "source": []
  }
 ],
 "metadata": {
  "kernelspec": {
   "display_name": "Python 3 (ipykernel)",
   "language": "python",
   "name": "python3"
  },
  "language_info": {
   "codemirror_mode": {
    "name": "ipython",
    "version": 3
   },
   "file_extension": ".py",
   "mimetype": "text/x-python",
   "name": "python",
   "nbconvert_exporter": "python",
   "pygments_lexer": "ipython3",
   "version": "3.10.9"
  }
 },
 "nbformat": 4,
 "nbformat_minor": 5
}
