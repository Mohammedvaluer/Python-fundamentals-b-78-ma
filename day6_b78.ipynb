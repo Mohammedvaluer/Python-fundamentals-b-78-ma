{
 "cells": [
  {
   "cell_type": "code",
   "execution_count": null,
   "id": "f2c53d1d",
   "metadata": {},
   "outputs": [],
   "source": [
    "#general syntax of for the loop:\n",
    "#for tempvar in mainvar:\n",
    "print(tempvar)"
   ]
  },
  {
   "cell_type": "code",
   "execution_count": 1,
   "id": "5fadd8f5",
   "metadata": {},
   "outputs": [],
   "source": [
    "students = ['ananya', 'nasrin', 'visesha', 'zeeshan', 'kumar', 'arvind']"
   ]
  },
  {
   "cell_type": "code",
   "execution_count": 2,
   "id": "af965750",
   "metadata": {},
   "outputs": [
    {
     "name": "stdout",
     "output_type": "stream",
     "text": [
      "['ananya', 'nasrin', 'visesha', 'zeeshan', 'kumar', 'arvind']\n"
     ]
    }
   ],
   "source": [
    "print(students)"
   ]
  },
  {
   "cell_type": "code",
   "execution_count": 4,
   "id": "7292d956",
   "metadata": {},
   "outputs": [
    {
     "name": "stdout",
     "output_type": "stream",
     "text": [
      "keep up the good work, (students[1].title())\n"
     ]
    }
   ],
   "source": [
    "print(f\"keep up the good work, (students[1].title())\")"
   ]
  },
  {
   "cell_type": "code",
   "execution_count": 5,
   "id": "74d9bb0b",
   "metadata": {},
   "outputs": [
    {
     "name": "stdout",
     "output_type": "stream",
     "text": [
      "keep up the good work, Nasrin\n"
     ]
    }
   ],
   "source": [
    "print(f\"keep up the good work, {students[1].title()}\")"
   ]
  },
  {
   "cell_type": "code",
   "execution_count": 6,
   "id": "6d81ae65",
   "metadata": {},
   "outputs": [
    {
     "data": {
      "text/plain": [
       "list"
      ]
     },
     "execution_count": 6,
     "metadata": {},
     "output_type": "execute_result"
    }
   ],
   "source": [
    "type(students)"
   ]
  },
  {
   "cell_type": "code",
   "execution_count": 7,
   "id": "bb5f8ce7",
   "metadata": {},
   "outputs": [
    {
     "name": "stdout",
     "output_type": "stream",
     "text": [
      "keep up the good work, ananya\n",
      "keep up the good work, nasrin\n",
      "keep up the good work, visesha\n",
      "keep up the good work, zeeshan\n",
      "keep up the good work, kumar\n",
      "keep up the good work, arvind\n"
     ]
    }
   ],
   "source": [
    "for x in students:\n",
    "    print(f\"keep up the good work, {x}\")"
   ]
  },
  {
   "cell_type": "code",
   "execution_count": 10,
   "id": "a9ae789e",
   "metadata": {},
   "outputs": [
    {
     "name": "stdout",
     "output_type": "stream",
     "text": [
      "keep up the good work, ananya\n",
      "do submit the github urls to Sirs inbox ananya\n",
      "keep up the good work, nasrin\n",
      "do submit the github urls to Sirs inbox nasrin\n",
      "keep up the good work, visesha\n",
      "do submit the github urls to Sirs inbox visesha\n",
      "keep up the good work, zeeshan\n",
      "do submit the github urls to Sirs inbox zeeshan\n",
      "keep up the good work, kumar\n",
      "do submit the github urls to Sirs inbox kumar\n",
      "keep up the good work, arvind\n",
      "do submit the github urls to Sirs inbox arvind\n"
     ]
    }
   ],
   "source": [
    "for a in students:\n",
    "    print(f\"keep up the good work, {a}\")\n",
    "    print(f\"do submit the github urls to Sirs inbox {a}\")"
   ]
  },
  {
   "cell_type": "code",
   "execution_count": 11,
   "id": "c34ce923",
   "metadata": {},
   "outputs": [
    {
     "name": "stdout",
     "output_type": "stream",
     "text": [
      "keep up the good work, ananya\n",
      "do submit the github urls to Sirs inbox (a)\n",
      "keep up the good work, nasrin\n",
      "do submit the github urls to Sirs inbox (a)\n",
      "keep up the good work, visesha\n",
      "do submit the github urls to Sirs inbox (a)\n",
      "keep up the good work, zeeshan\n",
      "do submit the github urls to Sirs inbox (a)\n",
      "keep up the good work, kumar\n",
      "do submit the github urls to Sirs inbox (a)\n",
      "keep up the good work, arvind\n",
      "do submit the github urls to Sirs inbox (a)\n"
     ]
    }
   ],
   "source": [
    "for a in students:\n",
    "    print(f\"keep up the good work, {a}\")\n",
    "    print(f\"do submit the github urls to Sirs inbox (a)\")"
   ]
  },
  {
   "cell_type": "code",
   "execution_count": 12,
   "id": "d03f2bc0",
   "metadata": {},
   "outputs": [
    {
     "name": "stdout",
     "output_type": "stream",
     "text": [
      "keep up the good work, ananya\n",
      "do submit the github urls to Sirs inbox ananya\n",
      "\n",
      "keep up the good work, nasrin\n",
      "do submit the github urls to Sirs inbox nasrin\n",
      "\n",
      "keep up the good work, visesha\n",
      "do submit the github urls to Sirs inbox visesha\n",
      "\n",
      "keep up the good work, zeeshan\n",
      "do submit the github urls to Sirs inbox zeeshan\n",
      "\n",
      "keep up the good work, kumar\n",
      "do submit the github urls to Sirs inbox kumar\n",
      "\n",
      "keep up the good work, arvind\n",
      "do submit the github urls to Sirs inbox arvind\n",
      "\n"
     ]
    }
   ],
   "source": [
    "for a in students:\n",
    "    print(f\"keep up the good work, {a}\")\n",
    "    print(f\"do submit the github urls to Sirs inbox {a}\\n\")"
   ]
  },
  {
   "cell_type": "code",
   "execution_count": 13,
   "id": "acd10511",
   "metadata": {},
   "outputs": [
    {
     "name": "stdout",
     "output_type": "stream",
     "text": [
      "['ananya', 'nasrin', 'visesha', 'zeeshan', 'kumar', 'arvind']\n"
     ]
    }
   ],
   "source": [
    "print(students)"
   ]
  },
  {
   "cell_type": "code",
   "execution_count": 15,
   "id": "58956842",
   "metadata": {},
   "outputs": [
    {
     "ename": "IndentationError",
     "evalue": "expected an indented block after 'for' statement on line 1 (2063828677.py, line 2)",
     "output_type": "error",
     "traceback": [
      "\u001b[1;36m  Cell \u001b[1;32mIn[15], line 2\u001b[1;36m\u001b[0m\n\u001b[1;33m    print(f\"keep up the good work, {a}\")\u001b[0m\n\u001b[1;37m    ^\u001b[0m\n\u001b[1;31mIndentationError\u001b[0m\u001b[1;31m:\u001b[0m expected an indented block after 'for' statement on line 1\n"
     ]
    }
   ],
   "source": [
    "for a in students:\n",
    "print(f\"keep up the good work, {a}\")\n",
    "print(f\"do submit the github urls to Sirs inbox {a}\\n\")"
   ]
  },
  {
   "cell_type": "code",
   "execution_count": 16,
   "id": "45fdf48f",
   "metadata": {},
   "outputs": [
    {
     "name": "stdout",
     "output_type": "stream",
     "text": [
      "keep up the good work, ananya\n",
      "do submit the github urls to Sirs inbox ananya\n",
      "\n",
      "keep up the good work, nasrin\n",
      "do submit the github urls to Sirs inbox nasrin\n",
      "\n",
      "keep up the good work, visesha\n",
      "do submit the github urls to Sirs inbox visesha\n",
      "\n",
      "keep up the good work, zeeshan\n",
      "do submit the github urls to Sirs inbox zeeshan\n",
      "\n",
      "keep up the good work, kumar\n",
      "do submit the github urls to Sirs inbox kumar\n",
      "\n",
      "keep up the good work, arvind\n",
      "do submit the github urls to Sirs inbox arvind\n",
      "\n"
     ]
    }
   ],
   "source": [
    "for a in students:\n",
    "    print(f\"keep up the good work, {a}\")\n",
    "    print(f\"do submit the github urls to Sirs inbox {a}\\n\")"
   ]
  },
  {
   "cell_type": "code",
   "execution_count": 17,
   "id": "d318d716",
   "metadata": {},
   "outputs": [],
   "source": [
    "students = ('sadiya', 'pranjali', 'saba', 'kiran', 'hameed', 'arun')"
   ]
  },
  {
   "cell_type": "code",
   "execution_count": 18,
   "id": "ea78a466",
   "metadata": {},
   "outputs": [
    {
     "data": {
      "text/plain": [
       "tuple"
      ]
     },
     "execution_count": 18,
     "metadata": {},
     "output_type": "execute_result"
    }
   ],
   "source": [
    "type(students)"
   ]
  },
  {
   "cell_type": "code",
   "execution_count": null,
   "id": "10978162",
   "metadata": {},
   "outputs": [],
   "source": [
    "#sadiya name to sonali"
   ]
  },
  {
   "cell_type": "code",
   "execution_count": 19,
   "id": "783e7d0f",
   "metadata": {},
   "outputs": [
    {
     "ename": "TypeError",
     "evalue": "'tuple' object does not support item assignment",
     "output_type": "error",
     "traceback": [
      "\u001b[1;31m---------------------------------------------------------------------------\u001b[0m",
      "\u001b[1;31mTypeError\u001b[0m                                 Traceback (most recent call last)",
      "Cell \u001b[1;32mIn[19], line 1\u001b[0m\n\u001b[1;32m----> 1\u001b[0m students[\u001b[38;5;241m0\u001b[39m] \u001b[38;5;241m=\u001b[39m \u001b[38;5;124m'\u001b[39m\u001b[38;5;124msonali\u001b[39m\u001b[38;5;124m'\u001b[39m\n",
      "\u001b[1;31mTypeError\u001b[0m: 'tuple' object does not support item assignment"
     ]
    }
   ],
   "source": [
    "students[0] = 'sonali'"
   ]
  },
  {
   "cell_type": "code",
   "execution_count": 20,
   "id": "47a94bfc",
   "metadata": {},
   "outputs": [
    {
     "name": "stdout",
     "output_type": "stream",
     "text": [
      "Pranjali\n"
     ]
    }
   ],
   "source": [
    "print(students[1].title())"
   ]
  },
  {
   "cell_type": "code",
   "execution_count": 21,
   "id": "337e1abd",
   "metadata": {},
   "outputs": [
    {
     "name": "stdout",
     "output_type": "stream",
     "text": [
      "sadiya\n",
      "pranjali\n",
      "saba\n",
      "kiran\n",
      "hameed\n",
      "arun\n"
     ]
    }
   ],
   "source": [
    "for a in students:\n",
    "    print(a)"
   ]
  },
  {
   "cell_type": "code",
   "execution_count": 22,
   "id": "c14f32d8",
   "metadata": {},
   "outputs": [],
   "source": [
    "dimensions = (200,500)"
   ]
  },
  {
   "cell_type": "code",
   "execution_count": 23,
   "id": "f954097d",
   "metadata": {},
   "outputs": [
    {
     "name": "stdout",
     "output_type": "stream",
     "text": [
      "(200, 500)\n"
     ]
    }
   ],
   "source": [
    "print(dimensions)"
   ]
  },
  {
   "cell_type": "code",
   "execution_count": 24,
   "id": "23ef46a9",
   "metadata": {},
   "outputs": [
    {
     "data": {
      "text/plain": [
       "tuple"
      ]
     },
     "execution_count": 24,
     "metadata": {},
     "output_type": "execute_result"
    }
   ],
   "source": [
    "type (dimensions)"
   ]
  },
  {
   "cell_type": "code",
   "execution_count": 26,
   "id": "ec22e65b",
   "metadata": {},
   "outputs": [],
   "source": [
    "students = ('sadiya', 'pranjali', 'saba', 'kiran', 'hameed', 'arun')"
   ]
  },
  {
   "cell_type": "code",
   "execution_count": 27,
   "id": "80699f4d",
   "metadata": {},
   "outputs": [
    {
     "name": "stdout",
     "output_type": "stream",
     "text": [
      "('sadiya', 'pranjali', 'saba', 'kiran', 'hameed', 'arun')\n"
     ]
    }
   ],
   "source": [
    "print(students)"
   ]
  },
  {
   "cell_type": "code",
   "execution_count": 28,
   "id": "d3568e3e",
   "metadata": {},
   "outputs": [
    {
     "ename": "AttributeError",
     "evalue": "'tuple' object has no attribute 'sort'",
     "output_type": "error",
     "traceback": [
      "\u001b[1;31m---------------------------------------------------------------------------\u001b[0m",
      "\u001b[1;31mAttributeError\u001b[0m                            Traceback (most recent call last)",
      "Cell \u001b[1;32mIn[28], line 1\u001b[0m\n\u001b[1;32m----> 1\u001b[0m \u001b[43mstudents\u001b[49m\u001b[38;5;241;43m.\u001b[39;49m\u001b[43msort\u001b[49m()\n",
      "\u001b[1;31mAttributeError\u001b[0m: 'tuple' object has no attribute 'sort'"
     ]
    }
   ],
   "source": [
    "students.sort()"
   ]
  },
  {
   "cell_type": "code",
   "execution_count": 32,
   "id": "d984a22f",
   "metadata": {},
   "outputs": [],
   "source": [
    "students = ['sadiya', 'pranjali', 'saba', 'kiran', 'hameed', 'arun']"
   ]
  },
  {
   "cell_type": "code",
   "execution_count": 33,
   "id": "b52ea305",
   "metadata": {},
   "outputs": [
    {
     "name": "stdout",
     "output_type": "stream",
     "text": [
      "['sadiya', 'pranjali', 'saba', 'kiran', 'hameed', 'arun']\n"
     ]
    }
   ],
   "source": [
    "print(students)"
   ]
  },
  {
   "cell_type": "code",
   "execution_count": 35,
   "id": "e2ff1f01",
   "metadata": {},
   "outputs": [],
   "source": [
    "students.sort()"
   ]
  },
  {
   "cell_type": "code",
   "execution_count": 36,
   "id": "c851eced",
   "metadata": {},
   "outputs": [
    {
     "name": "stdout",
     "output_type": "stream",
     "text": [
      "['arun', 'hameed', 'kiran', 'pranjali', 'saba', 'sadiya']\n"
     ]
    }
   ],
   "source": [
    "print(students)"
   ]
  },
  {
   "cell_type": "code",
   "execution_count": null,
   "id": "9027b916",
   "metadata": {},
   "outputs": [],
   "source": []
  }
 ],
 "metadata": {
  "kernelspec": {
   "display_name": "Python 3 (ipykernel)",
   "language": "python",
   "name": "python3"
  },
  "language_info": {
   "codemirror_mode": {
    "name": "ipython",
    "version": 3
   },
   "file_extension": ".py",
   "mimetype": "text/x-python",
   "name": "python",
   "nbconvert_exporter": "python",
   "pygments_lexer": "ipython3",
   "version": "3.10.9"
  }
 },
 "nbformat": 4,
 "nbformat_minor": 5
}
