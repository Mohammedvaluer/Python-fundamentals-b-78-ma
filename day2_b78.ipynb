{
 "cells": [
  {
   "cell_type": "code",
   "execution_count": 2,
   "id": "b5a899a5",
   "metadata": {},
   "outputs": [],
   "source": [
    "x=3\n",
    "y=2"
   ]
  },
  {
   "cell_type": "code",
   "execution_count": 3,
   "id": "770aacbc",
   "metadata": {},
   "outputs": [],
   "source": [
    "z=x+y"
   ]
  },
  {
   "cell_type": "code",
   "execution_count": 4,
   "id": "9d0229f3",
   "metadata": {},
   "outputs": [
    {
     "name": "stdout",
     "output_type": "stream",
     "text": [
      "5\n"
     ]
    }
   ],
   "source": [
    "print(z)"
   ]
  },
  {
   "cell_type": "code",
   "execution_count": 5,
   "id": "124fae46",
   "metadata": {},
   "outputs": [
    {
     "ename": "SyntaxError",
     "evalue": "invalid syntax (1903536455.py, line 1)",
     "output_type": "error",
     "traceback": [
      "\u001b[1;36m  Cell \u001b[1;32mIn[5], line 1\u001b[1;36m\u001b[0m\n\u001b[1;33m    First name 'Mohammed Assadullah'\u001b[0m\n\u001b[1;37m          ^\u001b[0m\n\u001b[1;31mSyntaxError\u001b[0m\u001b[1;31m:\u001b[0m invalid syntax\n"
     ]
    }
   ],
   "source": [
    "First name 'Mohammed Assadullah'"
   ]
  },
  {
   "cell_type": "code",
   "execution_count": 8,
   "id": "1691efd3",
   "metadata": {},
   "outputs": [],
   "source": [
    "firstname= 'Mohammed Assadullah'"
   ]
  },
  {
   "cell_type": "code",
   "execution_count": 9,
   "id": "c8b62b8d",
   "metadata": {},
   "outputs": [
    {
     "name": "stdout",
     "output_type": "stream",
     "text": [
      "Mohammed Assadullah\n"
     ]
    }
   ],
   "source": [
    "print(firstname)"
   ]
  },
  {
   "cell_type": "code",
   "execution_count": 10,
   "id": "b3940736",
   "metadata": {},
   "outputs": [],
   "source": [
    "firstname1= 'Mohammed Assadullah'"
   ]
  },
  {
   "cell_type": "code",
   "execution_count": 11,
   "id": "25a54157",
   "metadata": {},
   "outputs": [
    {
     "name": "stdout",
     "output_type": "stream",
     "text": [
      "Mohammed Assadullah\n"
     ]
    }
   ],
   "source": [
    "print(firstname1)"
   ]
  },
  {
   "cell_type": "code",
   "execution_count": 12,
   "id": "3303899e",
   "metadata": {},
   "outputs": [
    {
     "ename": "SyntaxError",
     "evalue": "invalid decimal literal (611559984.py, line 1)",
     "output_type": "error",
     "traceback": [
      "\u001b[1;36m  Cell \u001b[1;32mIn[12], line 1\u001b[1;36m\u001b[0m\n\u001b[1;33m    1firstname= 'Mohammed Assadullah'\u001b[0m\n\u001b[1;37m    ^\u001b[0m\n\u001b[1;31mSyntaxError\u001b[0m\u001b[1;31m:\u001b[0m invalid decimal literal\n"
     ]
    }
   ],
   "source": [
    "1firstname= 'Mohammed Assadullah'"
   ]
  },
  {
   "cell_type": "code",
   "execution_count": 13,
   "id": "5b80822c",
   "metadata": {},
   "outputs": [
    {
     "ename": "SyntaxError",
     "evalue": "invalid syntax. Maybe you meant '==' or ':=' instead of '='? (2755848326.py, line 1)",
     "output_type": "error",
     "traceback": [
      "\u001b[1;36m  Cell \u001b[1;32mIn[13], line 1\u001b[1;36m\u001b[0m\n\u001b[1;33m    @firstname= 'Mohammed Assadullah'\u001b[0m\n\u001b[1;37m     ^\u001b[0m\n\u001b[1;31mSyntaxError\u001b[0m\u001b[1;31m:\u001b[0m invalid syntax. Maybe you meant '==' or ':=' instead of '='?\n"
     ]
    }
   ],
   "source": [
    "@firstname= 'Mohammed Assadullah'"
   ]
  },
  {
   "cell_type": "code",
   "execution_count": null,
   "id": "c224d8ec",
   "metadata": {},
   "outputs": [],
   "source": [
    "variable should not contain special character"
   ]
  },
  {
   "cell_type": "code",
   "execution_count": null,
   "id": "070cc91a",
   "metadata": {},
   "outputs": [],
   "source": []
  },
  {
   "cell_type": "code",
   "execution_count": 18,
   "id": "01a2c61d",
   "metadata": {},
   "outputs": [],
   "source": [
    "firstname= 'mohammed assadullah'"
   ]
  },
  {
   "cell_type": "code",
   "execution_count": 16,
   "id": "303fc295",
   "metadata": {},
   "outputs": [
    {
     "name": "stdout",
     "output_type": "stream",
     "text": [
      "<built-in method title of str object at 0x00000231A6520300>\n"
     ]
    }
   ],
   "source": [
    "print(firstname.title)"
   ]
  },
  {
   "cell_type": "code",
   "execution_count": 19,
   "id": "b4385b62",
   "metadata": {},
   "outputs": [
    {
     "name": "stdout",
     "output_type": "stream",
     "text": [
      "Mohammed Assadullah\n"
     ]
    }
   ],
   "source": [
    "print(firstname.title())"
   ]
  },
  {
   "cell_type": "code",
   "execution_count": null,
   "id": "a4cdd4d9",
   "metadata": {},
   "outputs": [],
   "source": [
    "this shows that the double bracket at the end will make each word in capital"
   ]
  },
  {
   "cell_type": "code",
   "execution_count": null,
   "id": "ef584e2d",
   "metadata": {},
   "outputs": [],
   "source": []
  },
  {
   "cell_type": "code",
   "execution_count": 20,
   "id": "64cd905d",
   "metadata": {},
   "outputs": [],
   "source": [
    "firstname= 'Mohammed Assadullah'"
   ]
  },
  {
   "cell_type": "code",
   "execution_count": 21,
   "id": "6f2d492b",
   "metadata": {},
   "outputs": [
    {
     "name": "stdout",
     "output_type": "stream",
     "text": [
      "MOHAMMED ASSADULLAH\n"
     ]
    }
   ],
   "source": [
    "print(firstname.upper())"
   ]
  },
  {
   "cell_type": "code",
   "execution_count": null,
   "id": "8bd7d47f",
   "metadata": {},
   "outputs": [],
   "source": [
    "this makes all capital letters"
   ]
  },
  {
   "cell_type": "code",
   "execution_count": null,
   "id": "765d3adf",
   "metadata": {},
   "outputs": [],
   "source": []
  },
  {
   "cell_type": "code",
   "execution_count": 22,
   "id": "95ddfc73",
   "metadata": {},
   "outputs": [],
   "source": [
    "firstname= 'Mohammed Assadullah'"
   ]
  },
  {
   "cell_type": "code",
   "execution_count": 23,
   "id": "6f80df72",
   "metadata": {},
   "outputs": [
    {
     "name": "stdout",
     "output_type": "stream",
     "text": [
      "mohammed assadullah\n"
     ]
    }
   ],
   "source": [
    "print(firstname.lower())"
   ]
  },
  {
   "cell_type": "code",
   "execution_count": null,
   "id": "2fe0ad6b",
   "metadata": {},
   "outputs": [],
   "source": [
    "this makes all lower letters"
   ]
  },
  {
   "cell_type": "code",
   "execution_count": null,
   "id": "476f8fe5",
   "metadata": {},
   "outputs": [],
   "source": []
  },
  {
   "cell_type": "code",
   "execution_count": 24,
   "id": "d79365e5",
   "metadata": {},
   "outputs": [
    {
     "name": "stdout",
     "output_type": "stream",
     "text": [
      "mohammed assadullah\n"
     ]
    }
   ],
   "source": [
    "#is used for commenting the code \n",
    "print(firstname.lower())"
   ]
  },
  {
   "cell_type": "code",
   "execution_count": null,
   "id": "2277e22f",
   "metadata": {},
   "outputs": [],
   "source": []
  },
  {
   "cell_type": "code",
   "execution_count": 25,
   "id": "ee94e59d",
   "metadata": {},
   "outputs": [
    {
     "ename": "SyntaxError",
     "evalue": "invalid syntax (2019269043.py, line 1)",
     "output_type": "error",
     "traceback": [
      "\u001b[1;36m  Cell \u001b[1;32mIn[25], line 1\u001b[1;36m\u001b[0m\n\u001b[1;33m    this shows the comment was not executed and thus it is in green colour and only the print was executed\u001b[0m\n\u001b[1;37m         ^\u001b[0m\n\u001b[1;31mSyntaxError\u001b[0m\u001b[1;31m:\u001b[0m invalid syntax\n"
     ]
    }
   ],
   "source": [
    "this shows the comment was not executed and thus it is in green colour and only the print was executed"
   ]
  },
  {
   "cell_type": "code",
   "execution_count": null,
   "id": "90167121",
   "metadata": {},
   "outputs": [],
   "source": []
  },
  {
   "cell_type": "code",
   "execution_count": 26,
   "id": "3a81e269",
   "metadata": {},
   "outputs": [],
   "source": [
    "#this shows the comment was not executed and thus it is in green colour and only the print was executed"
   ]
  },
  {
   "cell_type": "code",
   "execution_count": null,
   "id": "531c1d9f",
   "metadata": {},
   "outputs": [],
   "source": []
  }
 ],
 "metadata": {
  "kernelspec": {
   "display_name": "Python 3 (ipykernel)",
   "language": "python",
   "name": "python3"
  },
  "language_info": {
   "codemirror_mode": {
    "name": "ipython",
    "version": 3
   },
   "file_extension": ".py",
   "mimetype": "text/x-python",
   "name": "python",
   "nbconvert_exporter": "python",
   "pygments_lexer": "ipython3",
   "version": "3.10.9"
  }
 },
 "nbformat": 4,
 "nbformat_minor": 5
}
